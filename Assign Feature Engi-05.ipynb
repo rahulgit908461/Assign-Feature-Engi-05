{
 "cells": [
  {
   "cell_type": "code",
   "execution_count": 1,
   "id": "31de5f57-69b4-428d-8661-989665d9a1d1",
   "metadata": {},
   "outputs": [],
   "source": [
    "#Q1. What is the difference between Ordinal Encoding and Label Encoding? Provide an example of when you\n",
    "#might choose one over the other."
   ]
  },
  {
   "cell_type": "code",
   "execution_count": 3,
   "id": "3d043d60-3bfa-4565-91eb-e4b9916e5d3d",
   "metadata": {},
   "outputs": [],
   "source": [
    "#OrdinalEncoder is for converting features, while LabelEncoder is for converting target variable.\n",
    "#LabelEncoder should be used to encode target values, i.e. y, and not the input X. Ordinal encoding should be used for ordinal \n",
    "#variables (where order matters, like cold , warm , hot ); vs Label encoding should be used for non-ordinal variables (where order \n",
    "#doesn't matter, like blonde , brunette )"
   ]
  },
  {
   "cell_type": "code",
   "execution_count": 4,
   "id": "49309279-0bc6-48af-bcc6-dbe4cec95280",
   "metadata": {},
   "outputs": [],
   "source": [
    "#Q2. Explain how Target Guided Ordinal Encoding works and provide an example of when you might use it in\n",
    "#a machine learning project."
   ]
  },
  {
   "cell_type": "code",
   "execution_count": 5,
   "id": "fd649752-83e8-4059-9bcc-768614f6842c",
   "metadata": {},
   "outputs": [],
   "source": [
    "#Target encoding is the process of replacing a categorical value with the mean of the target variable. Any non-categorical \n",
    "#columns are automatically dropped by the target encoder model. Note: You can also use target encoding to convert categorical \n",
    "#columns to numeric.\n",
    "#Seattle can be replaced with average of salary (target variable) of all datapoints where city is Seattle."
   ]
  },
  {
   "cell_type": "code",
   "execution_count": 7,
   "id": "8d00a10e-28cf-4dca-a4bb-c72f1a2c6bf7",
   "metadata": {},
   "outputs": [],
   "source": [
    "#Q3. Define covariance and explain why it is important in statistical analysis. How is covariance calculated?"
   ]
  },
  {
   "cell_type": "code",
   "execution_count": 8,
   "id": "ce45ceaf-4299-4c83-88c4-aa5d8db1fe7e",
   "metadata": {},
   "outputs": [],
   "source": [
    "#Covariance is a measure of the relationship between two random variables and to what extent, they change together. Or we can say, \n",
    "#in other words, it defines the changes between the two variables, such that change in one variable is equal to change in another \n",
    "#variable.\n",
    "#Covariance is calculated by analyzing at-return surprises (standard deviations from the expected return) or multiplying the\n",
    "#correlation between the two random variables by the standard deviation of each variable."
   ]
  },
  {
   "cell_type": "code",
   "execution_count": 9,
   "id": "60663d1b-99d0-4545-b08f-86cb4d68f488",
   "metadata": {},
   "outputs": [],
   "source": [
    "#Q4. For a dataset with the following categorical variables: Color (red, green, blue), Size (small, medium,\n",
    "#large), and Material (wood, metal, plastic), perform label encoding using Python's scikit-learn library.\n",
    "#Show your code and explain the output."
   ]
  },
  {
   "cell_type": "code",
   "execution_count": 10,
   "id": "e673c50e-a937-46dd-b780-4c09594098b7",
   "metadata": {},
   "outputs": [],
   "source": [
    "import pandas as pd"
   ]
  },
  {
   "cell_type": "code",
   "execution_count": 14,
   "id": "8cd6f28d-1bdf-4394-8251-9cb4fd68b842",
   "metadata": {},
   "outputs": [
    {
     "data": {
      "text/html": [
       "<div>\n",
       "<style scoped>\n",
       "    .dataframe tbody tr th:only-of-type {\n",
       "        vertical-align: middle;\n",
       "    }\n",
       "\n",
       "    .dataframe tbody tr th {\n",
       "        vertical-align: top;\n",
       "    }\n",
       "\n",
       "    .dataframe thead th {\n",
       "        text-align: right;\n",
       "    }\n",
       "</style>\n",
       "<table border=\"1\" class=\"dataframe\">\n",
       "  <thead>\n",
       "    <tr style=\"text-align: right;\">\n",
       "      <th></th>\n",
       "      <th>color</th>\n",
       "      <th>size</th>\n",
       "      <th>Material</th>\n",
       "    </tr>\n",
       "  </thead>\n",
       "  <tbody>\n",
       "    <tr>\n",
       "      <th>0</th>\n",
       "      <td>red</td>\n",
       "      <td>small</td>\n",
       "      <td>wood</td>\n",
       "    </tr>\n",
       "    <tr>\n",
       "      <th>1</th>\n",
       "      <td>green</td>\n",
       "      <td>median</td>\n",
       "      <td>metal</td>\n",
       "    </tr>\n",
       "    <tr>\n",
       "      <th>2</th>\n",
       "      <td>blue</td>\n",
       "      <td>Large</td>\n",
       "      <td>plastic</td>\n",
       "    </tr>\n",
       "  </tbody>\n",
       "</table>\n",
       "</div>"
      ],
      "text/plain": [
       "   color    size Material\n",
       "0    red   small     wood\n",
       "1  green  median    metal\n",
       "2   blue   Large  plastic"
      ]
     },
     "execution_count": 14,
     "metadata": {},
     "output_type": "execute_result"
    }
   ],
   "source": [
    "pd.DataFrame({\n",
    "    'color':['red','green','blue'],\n",
    "    'size':['small','median','Large'],\n",
    "    'Material':['wood','metal','plastic']\n",
    "})"
   ]
  },
  {
   "cell_type": "code",
   "execution_count": 16,
   "id": "c6d72f70-ab79-4f42-bcde-ead131e92f40",
   "metadata": {},
   "outputs": [],
   "source": [
    "df=pd.DataFrame({\n",
    "    'color':['red','green','blue'],\n",
    "    'size':['small','median','Large'],\n",
    "    'Material':['wood','metal','plastic']\n",
    "})"
   ]
  },
  {
   "cell_type": "code",
   "execution_count": 18,
   "id": "0d3e3e7f-3693-4273-9dab-ed8a9f14c78e",
   "metadata": {},
   "outputs": [
    {
     "data": {
      "text/html": [
       "<div>\n",
       "<style scoped>\n",
       "    .dataframe tbody tr th:only-of-type {\n",
       "        vertical-align: middle;\n",
       "    }\n",
       "\n",
       "    .dataframe tbody tr th {\n",
       "        vertical-align: top;\n",
       "    }\n",
       "\n",
       "    .dataframe thead th {\n",
       "        text-align: right;\n",
       "    }\n",
       "</style>\n",
       "<table border=\"1\" class=\"dataframe\">\n",
       "  <thead>\n",
       "    <tr style=\"text-align: right;\">\n",
       "      <th></th>\n",
       "      <th>color</th>\n",
       "      <th>size</th>\n",
       "      <th>Material</th>\n",
       "    </tr>\n",
       "  </thead>\n",
       "  <tbody>\n",
       "    <tr>\n",
       "      <th>0</th>\n",
       "      <td>red</td>\n",
       "      <td>small</td>\n",
       "      <td>wood</td>\n",
       "    </tr>\n",
       "    <tr>\n",
       "      <th>1</th>\n",
       "      <td>green</td>\n",
       "      <td>median</td>\n",
       "      <td>metal</td>\n",
       "    </tr>\n",
       "    <tr>\n",
       "      <th>2</th>\n",
       "      <td>blue</td>\n",
       "      <td>Large</td>\n",
       "      <td>plastic</td>\n",
       "    </tr>\n",
       "  </tbody>\n",
       "</table>\n",
       "</div>"
      ],
      "text/plain": [
       "   color    size Material\n",
       "0    red   small     wood\n",
       "1  green  median    metal\n",
       "2   blue   Large  plastic"
      ]
     },
     "execution_count": 18,
     "metadata": {},
     "output_type": "execute_result"
    }
   ],
   "source": [
    "df"
   ]
  },
  {
   "cell_type": "code",
   "execution_count": 19,
   "id": "94cdb7f1-faf3-4458-8c7f-b3da74a89a05",
   "metadata": {},
   "outputs": [],
   "source": [
    "from sklearn.preprocessing import LabelEncoder"
   ]
  },
  {
   "cell_type": "code",
   "execution_count": 20,
   "id": "17594e9f-f749-496d-add2-89d3b6a4b71c",
   "metadata": {},
   "outputs": [],
   "source": [
    "encoder=LabelEncoder()"
   ]
  },
  {
   "cell_type": "code",
   "execution_count": 31,
   "id": "e1ce86d1-8aad-428b-b696-49da373fa37c",
   "metadata": {},
   "outputs": [
    {
     "data": {
      "text/plain": [
       "array([2, 1, 0])"
      ]
     },
     "execution_count": 31,
     "metadata": {},
     "output_type": "execute_result"
    }
   ],
   "source": [
    "encoder.fit_transform(df['color'])"
   ]
  },
  {
   "cell_type": "code",
   "execution_count": 29,
   "id": "d5675be9-3cd1-4bec-9127-2d0b5a180e1b",
   "metadata": {},
   "outputs": [
    {
     "data": {
      "text/plain": [
       "array([2, 1, 0])"
      ]
     },
     "execution_count": 29,
     "metadata": {},
     "output_type": "execute_result"
    }
   ],
   "source": [
    "encoder.fit_transform(df['size'])"
   ]
  },
  {
   "cell_type": "code",
   "execution_count": 30,
   "id": "d3a6e84b-ea7c-46ac-9f40-239a4ba067a6",
   "metadata": {},
   "outputs": [
    {
     "data": {
      "text/plain": [
       "array([2, 0, 1])"
      ]
     },
     "execution_count": 30,
     "metadata": {},
     "output_type": "execute_result"
    }
   ],
   "source": [
    "encoder.fit_transform(df['Material'])"
   ]
  },
  {
   "cell_type": "code",
   "execution_count": 32,
   "id": "e3128d58-7e76-4945-9354-ab371141981d",
   "metadata": {},
   "outputs": [],
   "source": [
    "#Q5. Calculate the covariance matrix for the following variables in a dataset: Age, Income, and Education\n",
    "#level. Interpret the results."
   ]
  },
  {
   "cell_type": "code",
   "execution_count": 33,
   "id": "d54748a5-dcb7-43ab-9aeb-4082d2562c4b",
   "metadata": {},
   "outputs": [],
   "source": [
    "data=['Age','Income','Education']"
   ]
  },
  {
   "cell_type": "code",
   "execution_count": 34,
   "id": "e3852495-5f08-4903-9098-28d7b30c5a53",
   "metadata": {},
   "outputs": [],
   "source": [
    "import numpy as np"
   ]
  },
  {
   "cell_type": "code",
   "execution_count": 36,
   "id": "af206624-2cda-48b1-a867-6f0453999519",
   "metadata": {},
   "outputs": [
    {
     "data": {
      "text/plain": [
       "array(['Age', 'Income', 'Education'], dtype='<U9')"
      ]
     },
     "execution_count": 36,
     "metadata": {},
     "output_type": "execute_result"
    }
   ],
   "source": [
    "np.array(data)"
   ]
  },
  {
   "cell_type": "code",
   "execution_count": 41,
   "id": "95d8f7e4-9bfa-4a97-afe1-91cc372649fe",
   "metadata": {},
   "outputs": [],
   "source": [
    "#Q6. You are working on a machine learning project with a dataset containing several categorical\n",
    "#variables, including \"Gender\" (Male/Female), \"Education Level\" (High School/Bachelor's/Master's/PhD),\n",
    "#and \"Employment Status\" (Unemployed/Part-Time/Full-Time). Which encoding method would you use for\n",
    "#each variable, and why?"
   ]
  },
  {
   "cell_type": "code",
   "execution_count": 42,
   "id": "f0ebe480-3302-4d5c-9f5f-5b73e8e0679b",
   "metadata": {},
   "outputs": [],
   "source": [
    "# Here we use Label Encoding Becoz Label Encoding is a popular encoding technique for handling categorical variables. In this \n",
    "#technique, each label is assigned a unique integer based on alphabetical ordering.\n",
    "#In label encoding in Python, we replace the categorical value with a numeric value between 0 and the number of classes minus 1."
   ]
  },
  {
   "cell_type": "code",
   "execution_count": 43,
   "id": "bef2744e-a28a-490f-beba-42d3ea36da4b",
   "metadata": {},
   "outputs": [],
   "source": [
    "#Q7. You are analyzing a dataset with two continuous variables, \"Temperature\" and \"Humidity\", and two\n",
    "#categorical variables, \"Weather Condition\" (Sunny/Cloudy/Rainy) and \"Wind Direction\" (North/South/\n",
    "#East/West). Calculate the covariance between each pair of variables and interpret the results."
   ]
  },
  {
   "cell_type": "code",
   "execution_count": 44,
   "id": "4d1cffdd-6f9c-474a-b6c0-53e4ed9794c0",
   "metadata": {},
   "outputs": [],
   "source": [
    "import pandas as pd \n",
    "import numpy as np"
   ]
  },
  {
   "cell_type": "code",
   "execution_count": 51,
   "id": "992b7e13-933c-4520-b91e-395071adb444",
   "metadata": {},
   "outputs": [],
   "source": [
    "weather_condition=['Sunny','Cludy','Rainy'],\n",
    "wind_direction=['North','South','East','West']"
   ]
  },
  {
   "cell_type": "code",
   "execution_count": 52,
   "id": "509e719c-e0da-4ecc-98a4-b404ce99dbbd",
   "metadata": {},
   "outputs": [
    {
     "ename": "TypeError",
     "evalue": "Field elements must be 2- or 3-tuples, got ''North''",
     "output_type": "error",
     "traceback": [
      "\u001b[0;31m---------------------------------------------------------------------------\u001b[0m",
      "\u001b[0;31mTypeError\u001b[0m                                 Traceback (most recent call last)",
      "Cell \u001b[0;32mIn[52], line 1\u001b[0m\n\u001b[0;32m----> 1\u001b[0m \u001b[43mnp\u001b[49m\u001b[38;5;241;43m.\u001b[39;49m\u001b[43marray\u001b[49m\u001b[43m(\u001b[49m\u001b[43mweather_condition\u001b[49m\u001b[43m,\u001b[49m\u001b[43mwind_direction\u001b[49m\u001b[43m)\u001b[49m\n",
      "\u001b[0;31mTypeError\u001b[0m: Field elements must be 2- or 3-tuples, got ''North''"
     ]
    }
   ],
   "source": [
    "np.array(weather_condition, wind_direction)"
   ]
  },
  {
   "cell_type": "code",
   "execution_count": null,
   "id": "ca269deb-7a64-4f53-b8e0-1b571a422a04",
   "metadata": {},
   "outputs": [],
   "source": []
  }
 ],
 "metadata": {
  "kernelspec": {
   "display_name": "Python 3 (ipykernel)",
   "language": "python",
   "name": "python3"
  },
  "language_info": {
   "codemirror_mode": {
    "name": "ipython",
    "version": 3
   },
   "file_extension": ".py",
   "mimetype": "text/x-python",
   "name": "python",
   "nbconvert_exporter": "python",
   "pygments_lexer": "ipython3",
   "version": "3.10.8"
  }
 },
 "nbformat": 4,
 "nbformat_minor": 5
}
